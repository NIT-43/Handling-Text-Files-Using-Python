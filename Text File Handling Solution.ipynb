{
 "cells": [
  {
   "cell_type": "markdown",
   "id": "4b90525a",
   "metadata": {},
   "source": [
    "# Project: File Handling and String  Manipulation"
   ]
  },
  {
   "cell_type": "markdown",
   "id": "560f84ff",
   "metadata": {},
   "source": [
    "# Probem No.-1(Find out the number of unique dialogue speakers in the sample conversation)"
   ]
  },
  {
   "cell_type": "code",
   "execution_count": 2,
   "id": "2f7f44f3",
   "metadata": {},
   "outputs": [],
   "source": [
    "import pandas as pd\n",
    "import os\n",
    "import numpy as np\n",
    "import matplotlib.pyplot as plt\n",
    "%matplotlib inline\n",
    "import string\n",
    "import re\n",
    "from collections import defaultdict\n"
   ]
  },
  {
   "cell_type": "code",
   "execution_count": 3,
   "id": "6649543e",
   "metadata": {},
   "outputs": [],
   "source": [
    "#loading  Text file "
   ]
  },
  {
   "cell_type": "code",
   "execution_count": 4,
   "id": "7ee52580",
   "metadata": {},
   "outputs": [],
   "source": [
    "txt = pd.read_csv('conv.txt',delimiter=':',header=None,index_col=False)"
   ]
  },
  {
   "cell_type": "code",
   "execution_count": 5,
   "id": "e50a3a0c",
   "metadata": {},
   "outputs": [
    {
     "data": {
      "text/html": [
       "<div>\n",
       "<style scoped>\n",
       "    .dataframe tbody tr th:only-of-type {\n",
       "        vertical-align: middle;\n",
       "    }\n",
       "\n",
       "    .dataframe tbody tr th {\n",
       "        vertical-align: top;\n",
       "    }\n",
       "\n",
       "    .dataframe thead th {\n",
       "        text-align: right;\n",
       "    }\n",
       "</style>\n",
       "<table border=\"1\" class=\"dataframe\">\n",
       "  <thead>\n",
       "    <tr style=\"text-align: right;\">\n",
       "      <th></th>\n",
       "      <th>0</th>\n",
       "      <th>1</th>\n",
       "    </tr>\n",
       "  </thead>\n",
       "  <tbody>\n",
       "    <tr>\n",
       "      <th>0</th>\n",
       "      <td>WILL</td>\n",
       "      <td>I’ve never seen wildlings do a thing like thi...</td>\n",
       "    </tr>\n",
       "    <tr>\n",
       "      <th>1</th>\n",
       "      <td>WAYMAR ROYCE</td>\n",
       "      <td>How close did you get?</td>\n",
       "    </tr>\n",
       "    <tr>\n",
       "      <th>2</th>\n",
       "      <td>WILL</td>\n",
       "      <td>Close as any man would.</td>\n",
       "    </tr>\n",
       "    <tr>\n",
       "      <th>3</th>\n",
       "      <td>GARED</td>\n",
       "      <td>We should head back to the wall.</td>\n",
       "    </tr>\n",
       "    <tr>\n",
       "      <th>4</th>\n",
       "      <td>ROYCE</td>\n",
       "      <td>Do the dead frighten you?</td>\n",
       "    </tr>\n",
       "    <tr>\n",
       "      <th>5</th>\n",
       "      <td>GARED</td>\n",
       "      <td>Our orders were to track the wildlings. We tr...</td>\n",
       "    </tr>\n",
       "    <tr>\n",
       "      <th>6</th>\n",
       "      <td>ROYCE</td>\n",
       "      <td>You don’t think he’ll ask us how they died? G...</td>\n",
       "    </tr>\n",
       "    <tr>\n",
       "      <th>7</th>\n",
       "      <td>WILL</td>\n",
       "      <td>Whatever did it to them could do it to us. Th...</td>\n",
       "    </tr>\n",
       "  </tbody>\n",
       "</table>\n",
       "</div>"
      ],
      "text/plain": [
       "              0                                                  1\n",
       "0          WILL   I’ve never seen wildlings do a thing like thi...\n",
       "1  WAYMAR ROYCE                             How close did you get?\n",
       "2          WILL                            Close as any man would.\n",
       "3         GARED                   We should head back to the wall.\n",
       "4         ROYCE                          Do the dead frighten you?\n",
       "5         GARED   Our orders were to track the wildlings. We tr...\n",
       "6         ROYCE   You don’t think he’ll ask us how they died? G...\n",
       "7          WILL   Whatever did it to them could do it to us. Th..."
      ]
     },
     "execution_count": 5,
     "metadata": {},
     "output_type": "execute_result"
    }
   ],
   "source": [
    "\n",
    "txt.head(8)"
   ]
  },
  {
   "cell_type": "code",
   "execution_count": 6,
   "id": "44e6d384",
   "metadata": {},
   "outputs": [],
   "source": [
    "txt.columns=['Speaker','Conversation']\n",
    "# We have set speaker before': 'and Conversation after ':'"
   ]
  },
  {
   "cell_type": "code",
   "execution_count": 7,
   "id": "c61ddfca",
   "metadata": {},
   "outputs": [
    {
     "data": {
      "text/plain": [
       "0              WILL\n",
       "1      WAYMAR ROYCE\n",
       "2              WILL\n",
       "3             GARED\n",
       "4             ROYCE\n",
       "           ...     \n",
       "106             NED\n",
       "107          ROBERT\n",
       "108             NED\n",
       "109          ROBERT\n",
       "110             NED\n",
       "Name: Speaker, Length: 111, dtype: object"
      ]
     },
     "execution_count": 7,
     "metadata": {},
     "output_type": "execute_result"
    }
   ],
   "source": [
    "txt['Speaker']"
   ]
  },
  {
   "cell_type": "code",
   "execution_count": 8,
   "id": "4d95eae6",
   "metadata": {},
   "outputs": [
    {
     "data": {
      "text/plain": [
       "0       I’ve never seen wildlings do a thing like thi...\n",
       "1                                 How close did you get?\n",
       "2                                Close as any man would.\n",
       "3                       We should head back to the wall.\n",
       "4                              Do the dead frighten you?\n",
       "                             ...                        \n",
       "106                             Tell me about Jon Arryn.\n",
       "107     One minute he was fine, and then … Burned rig...\n",
       "108                                         We both did.\n",
       "109     He never had to teach you much, but me … You ...\n",
       "110                                                 Aye.\n",
       "Name: Conversation, Length: 111, dtype: object"
      ]
     },
     "execution_count": 8,
     "metadata": {},
     "output_type": "execute_result"
    }
   ],
   "source": [
    "txt['Conversation']"
   ]
  },
  {
   "cell_type": "code",
   "execution_count": 9,
   "id": "88bd8250",
   "metadata": {},
   "outputs": [],
   "source": [
    "#Now, to count the total no. of unique spaekers we will make the set\n",
    "#Set will give you unique elements"
   ]
  },
  {
   "cell_type": "code",
   "execution_count": 10,
   "id": "6795ae82",
   "metadata": {},
   "outputs": [],
   "source": [
    "speakers=set(txt['Speaker'])"
   ]
  },
  {
   "cell_type": "code",
   "execution_count": 11,
   "id": "ff05290e",
   "metadata": {},
   "outputs": [
    {
     "name": "stdout",
     "output_type": "stream",
     "text": [
      "The number of unique dialogue speakers in the sample conversation are 17\n"
     ]
    }
   ],
   "source": [
    "num=0\n",
    "for speaker in speakers:\n",
    "    num = num+1\n",
    "print(\"The number of unique dialogue speakers in the sample conversation are\",num )\n",
    "#iterated the loop for all sets of speakers,and counted it"
   ]
  },
  {
   "cell_type": "markdown",
   "id": "8c83f633",
   "metadata": {},
   "source": [
    "# Problem No.-2:Create a new text file by the name of the dialogue speaker and store the unique words spoken by that character in the respective text file. Make sure there is only one word every line.\n"
   ]
  },
  {
   "cell_type": "code",
   "execution_count": 12,
   "id": "ea65de1f",
   "metadata": {},
   "outputs": [],
   "source": [
    "#Now we will create the list. \n",
    "Words=list(txt['Conversation'])"
   ]
  },
  {
   "cell_type": "code",
   "execution_count": 13,
   "id": "ba422473",
   "metadata": {},
   "outputs": [],
   "source": [
    "conversation_list=[]\n",
    "final_list=[]\n",
    "for i in Words:\n",
    "    lowerstr=i.lower()\n",
    "    conversation_list.append(lowerstr)\n",
    "    \n",
    "conversation_list_clean=[re.sub(\"[-()\\\"#/@;:<>{}`+=~|.!?,…]\", \"\", _) for _ in conversation_list]\n",
    "\n",
    "for j in conversation_list_clean:\n",
    "    str_test=(' '.join(dict.fromkeys(j.split())))\n",
    "    final_list.append(str_test)\n",
    "    \n",
    "# We have removed all special chartacters from list using regular expressions\n",
    "    \n",
    "\n",
    "\n",
    "    "
   ]
  },
  {
   "cell_type": "code",
   "execution_count": 14,
   "id": "3312ca9d",
   "metadata": {},
   "outputs": [
    {
     "data": {
      "text/plain": [
       "['i’ve never seen wildlings do a thing like this not ever in my life',\n",
       " 'how close did you get',\n",
       " 'close as any man would',\n",
       " 'we should head back to the wall',\n",
       " 'do the dead frighten you',\n",
       " 'our orders were to track the wildlings we tracked them they won’t trouble us no more',\n",
       " 'you don’t think he’ll ask us how they died get back on your horse',\n",
       " 'whatever did it to them could do us they even killed the children',\n",
       " 'it’s a good thing we’re not children you want to run away south of course they will behead as deserter if i don’t catch first get back on your horse won’t say it again',\n",
       " 'your dead men seem to have moved camp',\n",
       " 'they were here',\n",
       " 'see where they went',\n",
       " 'what is it',\n",
       " 'go on father’s watching',\n",
       " 'and your mother',\n",
       " 'fine work as always well done',\n",
       " 'thank you',\n",
       " 'i love the detail that you’ve managed to get in this corners',\n",
       " 'and which one of you was a marksman at ten keep practicing bran go on',\n",
       " 'don’t think too much bran',\n",
       " 'relax your bow arm',\n",
       " 'lord stark my lady a guardsman just rode in from the hills they’ve captured deserter night’s watch',\n",
       " 'get the lads to saddle their horses',\n",
       " 'do you have to',\n",
       " 'he swore an oath cat',\n",
       " 'the law is my lady',\n",
       " 'tell bran he’s coming too',\n",
       " 'ned ten is too young to see such things',\n",
       " 'he won’t be a boy forever and winter is coming',\n",
       " 'lad go run back and get the rest',\n",
       " 'king of the andals and first men',\n",
       " 'father will know if you do',\n",
       " 'lord of the seven kingdoms and protector realm i eddard house stark winterfell warden north sentence you to die',\n",
       " 'you did well',\n",
       " 'you understand why i did it',\n",
       " 'jon said he was a deserter',\n",
       " 'but do you understand why i had to kill him',\n",
       " 'our way is the old',\n",
       " 'the man who passes sentence should swing sword',\n",
       " 'is it true he saw the white walkers',\n",
       " 'the white walkers have been gone for thousands of years',\n",
       " 'so he was lying',\n",
       " 'a madman sees what he',\n",
       " 'what is it',\n",
       " 'mountain lion',\n",
       " 'there are no mountain lions in these woods',\n",
       " 'it’s a freak',\n",
       " 'it’s a direwolf',\n",
       " 'tough old beast',\n",
       " 'there are no direwolves south of the wall',\n",
       " 'now there are five',\n",
       " 'you want to hold it',\n",
       " 'where will they go their mother’s dead',\n",
       " 'they don’t belong down here',\n",
       " 'better a quick death they won’t last without their mother',\n",
       " 'right give it here',\n",
       " 'no',\n",
       " 'put away your blade',\n",
       " 'i take orders from your father not you',\n",
       " 'please father',\n",
       " 'i’m sorry bran',\n",
       " 'lord stark there are five pups one for each of the children direwolf is sigil your house they were meant to have them',\n",
       " 'you will train them yourselves feed and if they die bury',\n",
       " 'what about you',\n",
       " 'i’m not a stark get on',\n",
       " 'what is it',\n",
       " 'what if jon arryn told someone',\n",
       " 'but who would he tell',\n",
       " 'my husband',\n",
       " 'if he told the king both our heads would be skewered on city gates by now whatever jon arryn knew or didn’t know it died with him and robert will choose a new hand of someone to do his job while he’s off fucking boars hunting whores is other way around life go',\n",
       " 'you should be the hand of king',\n",
       " 'that’s an honor i can do without their days are too long lives short',\n",
       " 'all these years and i still feel like an outsider when come here',\n",
       " 'you have five northern children you’re not an outsider',\n",
       " 'i wonder if the old gods agree',\n",
       " 'it’s your gods with all the rules',\n",
       " 'i am so sorry my love',\n",
       " 'tell me',\n",
       " 'i hear the prince is a right royal prick',\n",
       " 'think of all those southern girls he gets to stab with his right royal prick',\n",
       " 'go on tommy shave him good he’s never met a girl he likes better than his own hair',\n",
       " 'gods but they grow fast',\n",
       " 'i saw the king he’s got hundreds of people',\n",
       " 'how many times have i told you no climbing',\n",
       " 'but he’s coming right now down our road',\n",
       " 'i want you to promise me no more climbing',\n",
       " 'your grace',\n",
       " 'you’ve got fat',\n",
       " 'cat',\n",
       " 'your grace',\n",
       " 'nine years why haven’t i seen you where the hell have been',\n",
       " 'guarding the north for you your grace winterfell is yours',\n",
       " 'where’s the imp',\n",
       " 'will you shut up',\n",
       " 'who have we here you must be robb',\n",
       " 'arya',\n",
       " 'ooh show us your muscles you’ll be a soldier',\n",
       " 'that’s jaime lannister the queen’s twin brother',\n",
       " 'would you please shut up',\n",
       " 'my queen',\n",
       " 'my queen',\n",
       " 'take me to your crypt i want pay my respects',\n",
       " 'we’ve been riding for a month my love surely the dead can wait',\n",
       " 'ned',\n",
       " 'where’s the imp',\n",
       " 'where is our brother go find the little beast',\n",
       " 'tell me about jon arryn',\n",
       " 'one minute he was fine and then burned right through him whatever it i loved that man',\n",
       " 'we both did',\n",
       " 'he never had to teach you much but me remember at 16 all i wanted do was crack skulls and fuck girls showed what',\n",
       " 'aye']"
      ]
     },
     "execution_count": 14,
     "metadata": {},
     "output_type": "execute_result"
    }
   ],
   "source": [
    "final_list"
   ]
  },
  {
   "cell_type": "code",
   "execution_count": 15,
   "id": "8c538a99",
   "metadata": {},
   "outputs": [],
   "source": [
    "speaker_list=list(txt['Speaker'])"
   ]
  },
  {
   "cell_type": "code",
   "execution_count": 16,
   "id": "9b696f70",
   "metadata": {},
   "outputs": [
    {
     "name": "stdout",
     "output_type": "stream",
     "text": [
      "defaultdict(<class 'list'>, {'WILL': ['i’ve never seen wildlings do a thing like this not ever in my life', 'close as any man would', 'whatever did it to them could do us they even killed the children', 'they were here'], 'WAYMAR ROYCE': ['how close did you get'], 'GARED': ['we should head back to the wall', 'our orders were to track the wildlings we tracked them they won’t trouble us no more', 'see where they went'], 'ROYCE': ['do the dead frighten you', 'you don’t think he’ll ask us how they died get back on your horse', 'it’s a good thing we’re not children you want to run away south of course they will behead as deserter if i don’t catch first get back on your horse won’t say it again', 'your dead men seem to have moved camp', 'what is it'], 'JON': ['go on father’s watching', 'and your mother', 'don’t think too much bran', 'father will know if you do', 'you did well', 'what is it', 'now there are five', 'you want to hold it', 'lord stark there are five pups one for each of the children direwolf is sigil your house they were meant to have them', 'i’m not a stark get on'], 'SEPTA MORDANE': ['fine work as always well done', 'i love the detail that you’ve managed to get in this corners'], 'SANSA': ['thank you', 'will you shut up', 'would you please shut up'], 'NED': ['and which one of you was a marksman at ten keep practicing bran go on', 'get the lads to saddle their horses', 'he swore an oath cat', 'tell bran he’s coming too', 'he won’t be a boy forever and winter is coming', 'king of the andals and first men', 'lord of the seven kingdoms and protector realm i eddard house stark winterfell warden north sentence you to die', 'you understand why i did it', 'but do you understand why i had to kill him', 'the man who passes sentence should swing sword', 'the white walkers have been gone for thousands of years', 'a madman sees what he', 'there are no mountain lions in these woods', 'it’s a direwolf', 'tough old beast', 'better a quick death they won’t last without their mother', 'i’m sorry bran', 'you will train them yourselves feed and if they die bury', 'you have five northern children you’re not an outsider', 'it’s your gods with all the rules', 'tell me', 'your grace', 'guarding the north for you your grace winterfell is yours', 'my queen', 'tell me about jon arryn', 'we both did', 'aye'], 'ROBB': ['relax your bow arm', 'lad go run back and get the rest', 'there are no direwolves south of the wall', 'put away your blade', 'what is it', 'i hear the prince is a right royal prick', 'go on tommy shave him good he’s never met a girl he likes better than his own hair'], 'CASSEL': ['lord stark my lady a guardsman just rode in from the hills they’ve captured deserter night’s watch', 'the law is my lady', 'they don’t belong down here'], 'CATELYN': ['do you have to', 'ned ten is too young to see such things', 'all these years and i still feel like an outsider when come here', 'i wonder if the old gods agree', 'i am so sorry my love', 'gods but they grow fast', 'how many times have i told you no climbing', 'i want you to promise me no more climbing', 'your grace', 'my queen'], 'BRAN': ['jon said he was a deserter', 'our way is the old', 'is it true he saw the white walkers', 'so he was lying', 'where will they go their mother’s dead', 'no', 'please father', 'what about you', 'i saw the king he’s got hundreds of people', 'but he’s coming right now down our road'], 'THEON': ['mountain lion', 'it’s a freak', 'right give it here', 'i take orders from your father not you', 'think of all those southern girls he gets to stab with his right royal prick'], 'CERSEI': ['what if jon arryn told someone', 'my husband', 'you should be the hand of king', 'we’ve been riding for a month my love surely the dead can wait', 'where is our brother go find the little beast'], 'JAIME': ['but who would he tell', 'if he told the king both our heads would be skewered on city gates by now whatever jon arryn knew or didn’t know it died with him and robert will choose a new hand of someone to do his job while he’s off fucking boars hunting whores is other way around life go', 'that’s an honor i can do without their days are too long lives short'], 'ROBERT': ['you’ve got fat', 'cat', 'nine years why haven’t i seen you where the hell have been', 'who have we here you must be robb', 'ooh show us your muscles you’ll be a soldier', 'take me to your crypt i want pay my respects', 'ned', 'one minute he was fine and then burned right through him whatever it i loved that man', 'he never had to teach you much but me remember at 16 all i wanted do was crack skulls and fuck girls showed what'], 'ARYA': ['where’s the imp', 'arya', 'that’s jaime lannister the queen’s twin brother', 'where’s the imp']})\n"
     ]
    }
   ],
   "source": [
    "#Combine Speakers and Conversations\n",
    "speaker_conversation=defaultdict(list)\n",
    "for key,value in zip(speaker_list,final_list):\n",
    "    speaker_conversation[key].append(value)\n",
    "print(speaker_conversation)"
   ]
  },
  {
   "cell_type": "code",
   "execution_count": 17,
   "id": "4e31b449",
   "metadata": {},
   "outputs": [
    {
     "name": "stdout",
     "output_type": "stream",
     "text": [
      "WILL:i’ve never seen wildlings do a thing like this not ever in my life\n",
      "WILL:close as any man would\n",
      "WILL:whatever did it to them could do us they even killed the children\n",
      "WILL:they were here\n",
      "WAYMAR ROYCE:how close did you get\n",
      "GARED:we should head back to the wall\n",
      "GARED:our orders were to track the wildlings we tracked them they won’t trouble us no more\n",
      "GARED:see where they went\n",
      "ROYCE:do the dead frighten you\n",
      "ROYCE:you don’t think he’ll ask us how they died get back on your horse\n",
      "ROYCE:it’s a good thing we’re not children you want to run away south of course they will behead as deserter if i don’t catch first get back on your horse won’t say it again\n",
      "ROYCE:your dead men seem to have moved camp\n",
      "ROYCE:what is it\n",
      "JON:go on father’s watching\n",
      "JON:and your mother\n",
      "JON:don’t think too much bran\n",
      "JON:father will know if you do\n",
      "JON:you did well\n",
      "JON:what is it\n",
      "JON:now there are five\n",
      "JON:you want to hold it\n",
      "JON:lord stark there are five pups one for each of the children direwolf is sigil your house they were meant to have them\n",
      "JON:i’m not a stark get on\n",
      "SEPTA MORDANE:fine work as always well done\n",
      "SEPTA MORDANE:i love the detail that you’ve managed to get in this corners\n",
      "SANSA:thank you\n",
      "SANSA:will you shut up\n",
      "SANSA:would you please shut up\n",
      "NED:and which one of you was a marksman at ten keep practicing bran go on\n",
      "NED:get the lads to saddle their horses\n",
      "NED:he swore an oath cat\n",
      "NED:tell bran he’s coming too\n",
      "NED:he won’t be a boy forever and winter is coming\n",
      "NED:king of the andals and first men\n",
      "NED:lord of the seven kingdoms and protector realm i eddard house stark winterfell warden north sentence you to die\n",
      "NED:you understand why i did it\n",
      "NED:but do you understand why i had to kill him\n",
      "NED:the man who passes sentence should swing sword\n",
      "NED:the white walkers have been gone for thousands of years\n",
      "NED:a madman sees what he\n",
      "NED:there are no mountain lions in these woods\n",
      "NED:it’s a direwolf\n",
      "NED:tough old beast\n",
      "NED:better a quick death they won’t last without their mother\n",
      "NED:i’m sorry bran\n",
      "NED:you will train them yourselves feed and if they die bury\n",
      "NED:you have five northern children you’re not an outsider\n",
      "NED:it’s your gods with all the rules\n",
      "NED:tell me\n",
      "NED:your grace\n",
      "NED:guarding the north for you your grace winterfell is yours\n",
      "NED:my queen\n",
      "NED:tell me about jon arryn\n",
      "NED:we both did\n",
      "NED:aye\n",
      "ROBB:relax your bow arm\n",
      "ROBB:lad go run back and get the rest\n",
      "ROBB:there are no direwolves south of the wall\n",
      "ROBB:put away your blade\n",
      "ROBB:what is it\n",
      "ROBB:i hear the prince is a right royal prick\n",
      "ROBB:go on tommy shave him good he’s never met a girl he likes better than his own hair\n",
      "CASSEL:lord stark my lady a guardsman just rode in from the hills they’ve captured deserter night’s watch\n",
      "CASSEL:the law is my lady\n",
      "CASSEL:they don’t belong down here\n",
      "CATELYN:do you have to\n",
      "CATELYN:ned ten is too young to see such things\n",
      "CATELYN:all these years and i still feel like an outsider when come here\n",
      "CATELYN:i wonder if the old gods agree\n",
      "CATELYN:i am so sorry my love\n",
      "CATELYN:gods but they grow fast\n",
      "CATELYN:how many times have i told you no climbing\n",
      "CATELYN:i want you to promise me no more climbing\n",
      "CATELYN:your grace\n",
      "CATELYN:my queen\n",
      "BRAN:jon said he was a deserter\n",
      "BRAN:our way is the old\n",
      "BRAN:is it true he saw the white walkers\n",
      "BRAN:so he was lying\n",
      "BRAN:where will they go their mother’s dead\n",
      "BRAN:no\n",
      "BRAN:please father\n",
      "BRAN:what about you\n",
      "BRAN:i saw the king he’s got hundreds of people\n",
      "BRAN:but he’s coming right now down our road\n",
      "THEON:mountain lion\n",
      "THEON:it’s a freak\n",
      "THEON:right give it here\n",
      "THEON:i take orders from your father not you\n",
      "THEON:think of all those southern girls he gets to stab with his right royal prick\n",
      "CERSEI:what if jon arryn told someone\n",
      "CERSEI:my husband\n",
      "CERSEI:you should be the hand of king\n",
      "CERSEI:we’ve been riding for a month my love surely the dead can wait\n",
      "CERSEI:where is our brother go find the little beast\n",
      "JAIME:but who would he tell\n",
      "JAIME:if he told the king both our heads would be skewered on city gates by now whatever jon arryn knew or didn’t know it died with him and robert will choose a new hand of someone to do his job while he’s off fucking boars hunting whores is other way around life go\n",
      "JAIME:that’s an honor i can do without their days are too long lives short\n",
      "ROBERT:you’ve got fat\n",
      "ROBERT:cat\n",
      "ROBERT:nine years why haven’t i seen you where the hell have been\n",
      "ROBERT:who have we here you must be robb\n",
      "ROBERT:ooh show us your muscles you’ll be a soldier\n",
      "ROBERT:take me to your crypt i want pay my respects\n",
      "ROBERT:ned\n",
      "ROBERT:one minute he was fine and then burned right through him whatever it i loved that man\n",
      "ROBERT:he never had to teach you much but me remember at 16 all i wanted do was crack skulls and fuck girls showed what\n",
      "ARYA:where’s the imp\n",
      "ARYA:arya\n",
      "ARYA:that’s jaime lannister the queen’s twin brother\n",
      "ARYA:where’s the imp\n"
     ]
    }
   ],
   "source": [
    "for key,values in speaker_conversation.items():\n",
    "    for i in values:\n",
    "        print(key +\":\"+i)"
   ]
  },
  {
   "cell_type": "code",
   "execution_count": 18,
   "id": "19c248ef",
   "metadata": {},
   "outputs": [
    {
     "name": "stdout",
     "output_type": "stream",
     "text": [
      "['go on father’s watching', 'and your mother', 'don’t think too much bran', 'father will know if you do', 'you did well', 'what is it', 'now there are five', 'you want to hold it', 'lord stark there are five pups one for each of the children direwolf is sigil your house they were meant to have them', 'i’m not a stark get on']\n"
     ]
    }
   ],
   "source": [
    "\n",
    "print(speaker_conversation.get('JON'))"
   ]
  },
  {
   "cell_type": "code",
   "execution_count": 19,
   "id": "3806a011",
   "metadata": {},
   "outputs": [
    {
     "name": "stdout",
     "output_type": "stream",
     "text": [
      "['i’ve never seen wildlings do a thing like this not ever in my life', 'close as any man would', 'whatever did it to them could do us they even killed the children', 'they were here']\n"
     ]
    }
   ],
   "source": [
    "print(speaker_conversation.get('WILL'))"
   ]
  },
  {
   "cell_type": "code",
   "execution_count": 20,
   "id": "816a47ae",
   "metadata": {},
   "outputs": [
    {
     "name": "stdout",
     "output_type": "stream",
     "text": [
      "\n",
      "as\n",
      "life\n",
      "in\n",
      "wildlings\n",
      "ever\n",
      "could\n",
      "children\n",
      "i’ve\n",
      "the\n",
      "this\n",
      "they\n",
      "were\n",
      "even\n",
      "whatever\n",
      "never\n",
      "would\n",
      "here\n",
      "do\n",
      "killed\n",
      "seen\n",
      "close\n",
      "to\n",
      "did\n",
      "a\n",
      "us\n",
      "my\n",
      "like\n",
      "any\n",
      "it\n",
      "them\n",
      "thing\n",
      "man\n",
      "not\n"
     ]
    }
   ],
   "source": [
    "#list=[]\n",
    "s=\" \"\n",
    "for i in speaker_conversation.get('WILL'):\n",
    "    s=s+\" \"+i\n",
    "    \n",
    "#print(s)\n",
    "for word in set(s.split(\" \")):\n",
    "    print(word)\n",
    "    \n",
    "#WILL=open(r'C:\\Users\\Dell\\Downloads\\my_python_project','w')\n",
    "#WILL.write(word)\n",
    "#WILL.close()\n",
    "    \n",
    "with open('WILL.txt', 'w', encoding=\"utf_8\",) as f:\n",
    "    for word in set(s.split(\" \")):\n",
    "        f.write(f\"{word}\\n\")\n",
    "\n",
    "    \n",
    "    \n",
    "    \n",
    "      \n",
    "        \n"
   ]
  },
  {
   "cell_type": "code",
   "execution_count": 21,
   "id": "2eb2bd31",
   "metadata": {},
   "outputs": [
    {
     "name": "stdout",
     "output_type": "stream",
     "text": [
      "\n",
      "will\n",
      "direwolf\n",
      "and\n",
      "too\n",
      "meant\n",
      "for\n",
      "of\n",
      "hold\n",
      "much\n",
      "get\n",
      "think\n",
      "father\n",
      "children\n",
      "the\n",
      "i’m\n",
      "they\n",
      "sigil\n",
      "were\n",
      "five\n",
      "go\n",
      "on\n",
      "you\n",
      "want\n",
      "do\n",
      "if\n",
      "one\n",
      "well\n",
      "pups\n",
      "lord\n",
      "to\n",
      "did\n",
      "house\n",
      "a\n",
      "your\n",
      "there\n",
      "bran\n",
      "are\n",
      "know\n",
      "have\n",
      "it\n",
      "watching\n",
      "them\n",
      "don’t\n",
      "what\n",
      "father’s\n",
      "now\n",
      "stark\n",
      "each\n",
      "mother\n",
      "is\n",
      "not\n"
     ]
    }
   ],
   "source": [
    "s=\" \"\n",
    "for i in speaker_conversation.get('JON'):\n",
    "    s=s+\" \"+i\n",
    "    \n",
    "#print(s)\n",
    "for word in set(s.split(\" \")):\n",
    "    print(word)\n",
    "    \n",
    "#WILL=open(r'C:\\Users\\Dell\\Downloads\\my_python_project','w')\n",
    "#WILL.write(word)\n",
    "#WILL.close()\n",
    "    \n",
    "with open('JON.txt', 'w', encoding=\"utf_8\",) as f:\n",
    "    for word in set(s.split(\" \")):\n",
    "        f.write(f\"{word}\\n\")\n"
   ]
  },
  {
   "cell_type": "code",
   "execution_count": null,
   "id": "5e1de673",
   "metadata": {},
   "outputs": [],
   "source": []
  },
  {
   "cell_type": "code",
   "execution_count": null,
   "id": "22fa415a",
   "metadata": {},
   "outputs": [],
   "source": []
  },
  {
   "cell_type": "code",
   "execution_count": null,
   "id": "9766b6fb",
   "metadata": {},
   "outputs": [],
   "source": []
  }
 ],
 "metadata": {
  "kernelspec": {
   "display_name": "Python 3 (ipykernel)",
   "language": "python",
   "name": "python3"
  },
  "language_info": {
   "codemirror_mode": {
    "name": "ipython",
    "version": 3
   },
   "file_extension": ".py",
   "mimetype": "text/x-python",
   "name": "python",
   "nbconvert_exporter": "python",
   "pygments_lexer": "ipython3",
   "version": "3.9.12"
  }
 },
 "nbformat": 4,
 "nbformat_minor": 5
}
